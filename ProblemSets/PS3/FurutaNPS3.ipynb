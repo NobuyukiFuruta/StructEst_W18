{
 "cells": [
  {
   "cell_type": "code",
   "execution_count": 110,
   "metadata": {},
   "outputs": [],
   "source": [
    "# Import program libraries and the data set\n",
    "import numpy as np\n",
    "import scipy.stats as sts\n",
    "import scipy.special as spc\n",
    "import scipy.optimize as opt\n",
    "import scipy.integrate as intg\n",
    "import matplotlib.pyplot as ply\n",
    "import pandas as pd\n",
    "from pandas import Series, DataFrame\n",
    "\n",
    "data = np.loadtxt('MacroSeries.txt', delimiter = ',')\n",
    "\n",
    "# Make the data set time-series\n",
    "df = pd.DataFrame(data, columns = ['c', 'k', 'w', 'r'], index = np.arange(1,101))"
   ]
  },
  {
   "cell_type": "code",
   "execution_count": 111,
   "metadata": {},
   "outputs": [],
   "source": [
    "# Assign variables to each column of the data set\n",
    "c = df.loc[:,'c']\n",
    "k = df.loc[:,'k']\n",
    "w = df.loc[:,'w']\n",
    "r = df.loc[:,'r']"
   ]
  },
  {
   "cell_type": "code",
   "execution_count": 112,
   "metadata": {
    "collapsed": true
   },
   "outputs": [],
   "source": [
    "#(a)\n",
    "# Define and solve Equation (3) for z_t\n",
    "def eqn3(w,k,alpha):\n",
    "    z = np.log(w)-np.log(1-alpha)-alpha*np.log(k)\n",
    "    return z"
   ]
  },
  {
   "cell_type": "code",
   "execution_count": 113,
   "metadata": {
    "collapsed": true
   },
   "outputs": [],
   "source": [
    "# Compute epsilon from Equation (5)\n",
    "def eps(z,rho,mu):\n",
    "    z_lag = np.append(mu,z[:-1])\n",
    "    eps = z - rho* z_lag - (1-rho) * mu\n",
    "    return eps"
   ]
  },
  {
   "cell_type": "code",
   "execution_count": 114,
   "metadata": {},
   "outputs": [
    {
     "name": "stdout",
     "output_type": "stream",
     "text": [
      "alpha_mle 0.317361326029 rho_mle 0.775089983587 mu_mle 10.0813859106 sigma_mle 1.02121646634\n"
     ]
    },
    {
     "name": "stderr",
     "output_type": "stream",
     "text": [
      "/Users/nobuyukifuruta/anaconda3/lib/python3.6/site-packages/ipykernel_launcher.py:10: RuntimeWarning: divide by zero encountered in log\n",
      "  # Remove the CWD from sys.path while we load stuff.\n",
      "/Users/nobuyukifuruta/anaconda3/lib/python3.6/site-packages/scipy/optimize/optimize.py:628: RuntimeWarning: invalid value encountered in double_scalars\n",
      "  grad[k] = (f(*((xk + d,) + args)) - f0) / d[k]\n"
     ]
    }
   ],
   "source": [
    "# Define pdf of the normal distribution\n",
    "def normal_pdf(z, rho, mu, sigma):\n",
    "    xvals = eps(z,rho,mu)\n",
    "    pdf_vals = (1/(sigma*np.sqrt(2*np.pi)))*np.exp(-(xvals**2)/(2*sigma**2))\n",
    "    return pdf_vals\n",
    "\n",
    "# Define log likelihood function for the normal distribution\n",
    "def log_lik_norm(z, rho, mu, sigma):\n",
    "    pdf_vals = normal_pdf(z, rho, mu, sigma)\n",
    "    ln_pdf_vals = np.log(pdf_vals)\n",
    "    log_lik_val = ln_pdf_vals.sum()\n",
    "    return log_lik_val\n",
    "\n",
    "# Define the criterion function\n",
    "def crit(params, *args):\n",
    "    alpha, rho, mu, sigma = params\n",
    "    w, k = args\n",
    "    z = eqn3(w,k,alpha)\n",
    "    log_lik_val = log_lik_norm(z, rho, mu, sigma)\n",
    "    neg_log_lik_val = -log_lik_val\n",
    "    return neg_log_lik_val\n",
    "\n",
    "# Set initial values and bounds\n",
    "alpha_0 = 0.2\n",
    "rho_0 = 0.7\n",
    "mu_0 = 10\n",
    "sigma_0 = 0.3\n",
    "params_init = np.array([alpha_0, rho_0, mu_0, sigma_0])\n",
    "param_bounds = ((1e-10, 1-(1e-10)),(-1+(1e-10), 1-(1e-10)), (1e-10, None),(1e-10, None))\n",
    "\n",
    "# ML Estimation\n",
    "mle_args = (w, k)\n",
    "results = opt.minimize(crit, params_init, args=(mle_args), bounds = param_bounds, method = 'L-BFGS-B')\n",
    "alpha_mle, rho_mle, mu_mle, sigma_mle = results.x\n",
    "print('alpha_mle', alpha_mle, 'rho_mle', rho_mle, 'mu_mle', mu_mle, 'sigma_mle', sigma_mle)"
   ]
  },
  {
   "cell_type": "code",
   "execution_count": 117,
   "metadata": {},
   "outputs": [
    {
     "name": "stdout",
     "output_type": "stream",
     "text": [
      "VCV(MLE)= [[ 0.63630516 -0.51864509 -0.07810611 -0.53205902]\n",
      " [-0.51864509  0.48491465 -0.00471448  0.30049074]\n",
      " [-0.07810611 -0.00471448  1.00860882  0.03837371]\n",
      " [-0.53205902  0.30049074  0.03837371  0.76698956]]\n"
     ]
    }
   ],
   "source": [
    "# Commpute the inverse hessian variance-covariance matrix of the estimates\n",
    "vcv_mle = results.hess_inv*np.identity(4)\n",
    "print ('VCV(MLE)=', vcv_mle)"
   ]
  },
  {
   "cell_type": "code",
   "execution_count": 120,
   "metadata": {
    "collapsed": true
   },
   "outputs": [],
   "source": [
    "#(b)\n",
    "# Define and solve Equation (4) for z_t\n",
    "def eqn4(r,k,alpha):\n",
    "    z = np.log(r)-np.log(alpha)-(alpha-1)*np.log(k)\n",
    "    return z\n",
    "\n",
    "# Compute epsilon from Equation (5)\n",
    "def eps(z,rho,mu):\n",
    "    z_lag = np.append(mu,z[:-1])\n",
    "    eps = z - rho* z_lag - (1-rho) * mu\n",
    "    return eps"
   ]
  },
  {
   "cell_type": "code",
   "execution_count": 127,
   "metadata": {},
   "outputs": [
    {
     "name": "stdout",
     "output_type": "stream",
     "text": [
      "alpha_mle2 0.162407213636 rho_mle2 0.304021206717 mu_mle2 14.9932771952 sigma_mle2 0.531144188169\n"
     ]
    },
    {
     "name": "stderr",
     "output_type": "stream",
     "text": [
      "/Users/nobuyukifuruta/anaconda3/lib/python3.6/site-packages/ipykernel_launcher.py:10: RuntimeWarning: divide by zero encountered in log\n",
      "  # Remove the CWD from sys.path while we load stuff.\n",
      "/Users/nobuyukifuruta/anaconda3/lib/python3.6/site-packages/scipy/optimize/optimize.py:628: RuntimeWarning: invalid value encountered in double_scalars\n",
      "  grad[k] = (f(*((xk + d,) + args)) - f0) / d[k]\n"
     ]
    }
   ],
   "source": [
    "# Define pdf of the normal distribution\n",
    "def normal_pdf(z, rho, mu, sigma):\n",
    "    xvals = eps(z,rho,mu)\n",
    "    pdf_vals = (1/(sigma*np.sqrt(2*np.pi)))*np.exp(-(xvals**2)/(2*sigma**2))\n",
    "    return pdf_vals\n",
    "\n",
    "# Define log likelihood function for the normal distribution\n",
    "def log_lik_norm(z, rho, mu, sigma):\n",
    "    pdf_vals = normal_pdf(z, rho, mu, sigma)\n",
    "    ln_pdf_vals = np.log(pdf_vals)\n",
    "    log_lik_val = ln_pdf_vals.sum()\n",
    "    return log_lik_val\n",
    "\n",
    "# Define the criterion function\n",
    "def crit(params, *args):\n",
    "    alpha, rho, mu, sigma = params\n",
    "    r, k = args\n",
    "    z = eqn4(r,k,alpha)\n",
    "    log_lik_val = log_lik_norm(z, rho, mu, sigma)\n",
    "    neg_log_lik_val = -log_lik_val\n",
    "    return neg_log_lik_val\n",
    "\n",
    "# Set initial values and bounds\n",
    "alpha_0 = 0.2\n",
    "rho_0 = 0.3\n",
    "mu_0 = 15\n",
    "sigma_0 = 0.3\n",
    "params_init = np.array([alpha_0, rho_0, mu_0, sigma_0])\n",
    "param_bounds = ((1e-10, 1-(1e-10)),(-1+(1e-10), 1-(1e-10)), (1e-10, None),(1e-10, None))\n",
    "\n",
    "# ML Estimation\n",
    "mle_args = (r, k)\n",
    "results = opt.minimize(crit, params_init, args=(mle_args), bounds = param_bounds, method = 'L-BFGS-B')\n",
    "alpha_mle2, rho_mle2, mu_mle2, sigma_mle2 = results.x\n",
    "print('alpha_mle2', alpha_mle2, 'rho_mle2', rho_mle2, 'mu_mle2', mu_mle2, 'sigma_mle2', sigma_mle2)"
   ]
  },
  {
   "cell_type": "code",
   "execution_count": 128,
   "metadata": {},
   "outputs": [
    {
     "name": "stdout",
     "output_type": "stream",
     "text": [
      "VCV(MLE)= [[  4.11843417e-02   1.20300508e-02  -1.92974843e-02  -1.20024680e+00]\n",
      " [  1.20300508e-02   1.01068891e+00   2.69574945e-02  -1.29683419e+00]\n",
      " [ -1.92974843e-02   2.69574945e-02   1.01421072e+00  -7.70272125e-01]\n",
      " [ -1.20024680e+00  -1.29683419e+00  -7.70272125e-01   3.75640494e+01]]\n"
     ]
    }
   ],
   "source": [
    "# Commpute the inverse hessian variance-covariance matrix of the estimates\n",
    "vcv_mle = results.hess_inv*np.identity(4)\n",
    "print ('VCV(MLE)=', vcv_mle)"
   ]
  },
  {
   "cell_type": "code",
   "execution_count": 130,
   "metadata": {},
   "outputs": [],
   "source": [
    "#(c)\n",
    "# Solve Equation (4) for z* given r=1, k=7500000\n",
    "z_star = -np.log(alpha_mle)-(alpha_mle -1)*np.log(7500000)"
   ]
  },
  {
   "cell_type": "code",
   "execution_count": 137,
   "metadata": {},
   "outputs": [
    {
     "name": "stdout",
     "output_type": "stream",
     "text": [
      "probability= 1.0\n"
     ]
    }
   ],
   "source": [
    "# Compute the probability that r<=1 given MLE parametes, r=1, and k=7500000\n",
    "def normal_pdf(z,rho,mu,sigma):\n",
    "    pdf_vals = (1/(sigma*np.sqrt(2*np.pi)))*np.exp(-((z-10*rho+(1-rho)*mu)**2)/(2*sigma**2))\n",
    "    return pdf_vals\n",
    "prob = 1- intg.quad(lambda z: normal_pdf(z,rho_mle,mu_mle,sigma_mle), -np.inf, z_star)[0]\n",
    "print('probability=', prob)"
   ]
  }
 ],
 "metadata": {
  "kernelspec": {
   "display_name": "Python 3",
   "language": "python",
   "name": "python3"
  },
  "language_info": {
   "codemirror_mode": {
    "name": "ipython",
    "version": 3
   },
   "file_extension": ".py",
   "mimetype": "text/x-python",
   "name": "python",
   "nbconvert_exporter": "python",
   "pygments_lexer": "ipython3",
   "version": "3.6.3"
  }
 },
 "nbformat": 4,
 "nbformat_minor": 2
}
