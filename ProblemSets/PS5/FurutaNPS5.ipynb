{
 "cells": [
  {
   "cell_type": "code",
   "execution_count": 98,
   "metadata": {
    "collapsed": true,
    "scrolled": true
   },
   "outputs": [],
   "source": [
    "# Import program libraries\n",
    "import numpy as np\n",
    "import scipy.stats as sts\n",
    "import scipy.special as spc\n",
    "import scipy.optimize as opt\n",
    "import scipy.integrate as intg\n",
    "import matplotlib.pyplot as plt\n",
    "\n",
    "# Import the dataset and assign variables\n",
    "data = np.loadtxt('NewMacroSeries.txt', delimiter = ',')\n",
    "c_t = data[:,0]\n",
    "k_t = data[:,1]\n",
    "w_t = data[:,2]\n",
    "r_t = data[:,3]\n",
    "y_t = data[:,4]"
   ]
  },
  {
   "cell_type": "code",
   "execution_count": 121,
   "metadata": {
    "collapsed": true
   },
   "outputs": [],
   "source": [
    "# Define a function that draws N x S epsilon from the normal distribution\n",
    "def norm_draws(unif_vals, sigma):\n",
    "    norm_draws = sts.norm.ppf(unif_vals, loc=0, scale=sigma)\n",
    "    return norm_draws"
   ]
  },
  {
   "cell_type": "code",
   "execution_count": 123,
   "metadata": {},
   "outputs": [],
   "source": [
    "# Create simulated data\n",
    "# First, simulate the data of epsilon\n",
    "unif_vals = sts.uniform.rvs(0, 1, size=(101, 1000))\n",
    "\n",
    "beta = 0.99\n",
    "\n",
    "# Simulate z_s by Equation (5) and z_0 = mu\n",
    "def eqn5(eps, rho, mu):\n",
    "    #z_0 = mu\n",
    "    z_s = np.empty_like(eps)\n",
    "    z_s[0][:] = mu\n",
    "    for t in range(1, 101):\n",
    "        z_s[t] = rho* z_s[t-1] + (1-rho)*mu + eps[t-1]\n",
    "        \n",
    "    return z_s\n",
    "\n",
    "# Simulate k_s by Equation (7) and k_1 = mean(k_t)\n",
    "def eqn7(z_s, alpha, beta):\n",
    "    k_s = np.empty_like(eps)\n",
    "    k_s[0][:] = k_t.mean()\n",
    "    for t in range(1, 101):\n",
    "        k_s[t] = alpha * beta * np.exp(z_s[t]) * (k_s[t-1] ** alpha)\n",
    "    \n",
    "    return k_s\n",
    "\n",
    "# Simulate w_s by Equation (3)\n",
    "def eqn3(z_s, k_s, alpha):\n",
    "    w_s = (1-alpha) * np.exp(z_s[1:101]) * (k_s[0:100] ** alpha)\n",
    "    return w_s\n",
    "\n",
    "# Simulate r_s by Eqaution (4)\n",
    "def eqn4(z_s, k_s, alpha):\n",
    "    r_s = alpha * np.exp(z_s[1:101]) * (k_s[0:100] ** (alpha -1))\n",
    "    return r_s\n",
    "\n",
    "# Simulate c_s by Equation (2)\n",
    "def eqn2(w_s, r_s, k_s):\n",
    "    c_s = w_s + (r_s * k_s[0:100]) - k_s[1:101]\n",
    "    return c_s\n",
    "\n",
    "# Simulate y_s by Equation (6)\n",
    "def eqn6(z_s, k_s, alpha):\n",
    "    y_s = np.exp(z_s[1:101]) * (k_s[0:100] ** alpha)\n",
    "    return y_s"
   ]
  },
  {
   "cell_type": "code",
   "execution_count": 124,
   "metadata": {},
   "outputs": [],
   "source": [
    "# Create data moments\n",
    "def data_moments(c, k, y):\n",
    "    mom1 = c.mean(axis=0)\n",
    "    mom2 = k.mean(axis=0)\n",
    "    a = c / y\n",
    "    mom3 = a.mean(axis=0)\n",
    "    mom4 = y.var(axis=0)\n",
    "    cov1 = np.corrcoef(c[1:100], c[0:99])\n",
    "    mom5 = cov1[0,1]\n",
    "    cov2 = np.corrcoef(c, k)\n",
    "    mom6 = cov2[0,1]\n",
    "    return mom1, mom2, mom3, mom4, mom5, mom6\n",
    "\n",
    "# Create model moments\n",
    "def sim_moments(c, k, y):\n",
    "    mom1 = c.mean(axis=0)\n",
    "    mom2 = k.mean(axis=0)\n",
    "    a = c / y\n",
    "    mom3 = a.mean(axis=0)\n",
    "    mom4 = y.var(axis=0)\n",
    "    mom5 = np.empty_like(mom1)\n",
    "    for j in range (0, 1000):\n",
    "        cov1 = np.corrcoef(c[1:100, j], c[0:99, j])\n",
    "        mom5[j] = cov1[0,1]\n",
    "    mom6 = np.empty_like(mom1)\n",
    "    for j in range (0, 1000):\n",
    "        cov2 = np.corrcoef(c[:, j], k[0:100, j])\n",
    "        mom6[j] = cov2[0,1]\n",
    "    return mom1, mom2, mom3, mom4, mom5, mom6"
   ]
  },
  {
   "cell_type": "code",
   "execution_count": 138,
   "metadata": {
    "collapsed": true
   },
   "outputs": [],
   "source": [
    "# Create the error vector\n",
    "def err_vec(c_t, k_t, y_t, eps, z_s, k_s, w_s, r_s, c_s, y_s, alpha, rho, mu, sigma):\n",
    "    data_mom1, data_mom2, data_mom3, data_mom4, data_mom5, data_mom6 = data_moments(c_t, k_t, y_t)\n",
    "    moms_data = np.array([data_mom1, data_mom2, data_mom3, data_mom4, data_mom5, data_mom6])\n",
    "    sim_mom1, sim_mom2, sim_mom3, sim_mom4, sim_mom5, sim_mom6 = sim_moments(c_s, k_s, y_s)\n",
    "    mod_mom1 = sim_mom1.mean()\n",
    "    mod_mom2 = sim_mom2.mean()\n",
    "    mod_mom3 = sim_mom3.mean()\n",
    "    mod_mom4 = sim_mom4.mean()\n",
    "    mod_mom5 = sim_mom5.mean()\n",
    "    mod_mom6 = sim_mom6.mean()\n",
    "    moms_model = np.array([mod_mom1, mod_mom2, mod_mom3, mod_mom4, mod_mom5, mod_mom6])\n",
    "    err_vec = moms_model - moms_data\n",
    "    return err_vec\n",
    "\n",
    "# Create the ctiterion function\n",
    "def crit(params, *args):\n",
    "    alpha, rho, mu, sigma = params\n",
    "    c_t, k_t, w_t, r_t, y_t, unif_vals, W = args\n",
    "    eps = norm_draws(unif_vals, sigma)\n",
    "    z_s = eqn5(eps, rho, mu)\n",
    "    k_s = eqn7(z_s, alpha, beta)\n",
    "    w_s = eqn3(z_s, k_s, alpha)\n",
    "    r_s = eqn4(z_s, k_s, alpha)\n",
    "    c_s = eqn2(w_s, r_s, k_s)\n",
    "    y_s = eqn6(z_s, k_s, alpha)\n",
    "    err = err_vec(c_t, k_t, y_t, eps, z_s, k_s, w_s, r_s, c_s, y_s, alpha, rho, mu, sigma)\n",
    "    crit_val = err @ W @ err.T\n",
    "    return crit_val"
   ]
  },
  {
   "cell_type": "code",
   "execution_count": 169,
   "metadata": {},
   "outputs": [
    {
     "name": "stdout",
     "output_type": "stream",
     "text": [
      "      fun: 78105603793942.016\n",
      " hess_inv: <4x4 LbfgsInvHessProduct with dtype=float64>\n",
      "      jac: array([  1.15876742e+22,   1.64659455e+20,   4.21210710e+19,\n",
      "         3.60901659e+20])\n",
      "  message: b'CONVERGENCE: REL_REDUCTION_OF_F_<=_FACTR*EPSMCH'\n",
      "     nfev: 265\n",
      "      nit: 9\n",
      "   status: 0\n",
      "  success: True\n",
      "        x: array([  0.19284952,   0.44786459,  11.94863778,   0.89539838])\n",
      "[ -8.48055206e+06  -6.24305134e+06   1.18800000e-01  -2.78670017e+13\n",
      "  -5.31160358e-01  -6.01219513e-01]\n"
     ]
    }
   ],
   "source": [
    "# Set the initial values and bounds of the parameters and the weighted matrix\n",
    "alpha_init = 0.2\n",
    "rho_init = 0.5\n",
    "mu_init = 12\n",
    "sigma_init = 0.9\n",
    "params_init = np.array([alpha_init, rho_init, mu_init, sigma_init])\n",
    "bounds = ((0.01, 0.99), (-0.99, 0.99), (5, 14), (0.01, 1.1))\n",
    "W = np.eye(6)\n",
    "\n",
    "# Conduct SMM\n",
    "smm_arg = (c_t, k_t, w_t, r_t, y_t, unif_vals, W)\n",
    "result = opt.minimize(crit, params_init, args=(smm_arg), bounds = bounds)\n",
    "alpha_smm, rho_smm, mu_smm, sigma_smm = result.x\n",
    "print(result)\n",
    "print(moms_model - moms_data)"
   ]
  }
 ],
 "metadata": {
  "kernelspec": {
   "display_name": "Python 3",
   "language": "python",
   "name": "python3"
  },
  "language_info": {
   "codemirror_mode": {
    "name": "ipython",
    "version": 3
   },
   "file_extension": ".py",
   "mimetype": "text/x-python",
   "name": "python",
   "nbconvert_exporter": "python",
   "pygments_lexer": "ipython3",
   "version": "3.6.3"
  }
 },
 "nbformat": 4,
 "nbformat_minor": 2
}
